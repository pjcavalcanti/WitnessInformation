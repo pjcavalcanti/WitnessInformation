{
 "cells": [
  {
   "cell_type": "markdown",
   "metadata": {},
   "source": [
    "This notebook requires simulation.py to be run first."
   ]
  },
  {
   "cell_type": "markdown",
   "metadata": {},
   "source": [
    "# Plotting the joint distribution $p_{\\mathcal{WE}}(w,e)$\n",
    "## (FIG. 1)"
   ]
  },
  {
   "cell_type": "code",
   "execution_count": null,
   "metadata": {},
   "outputs": [],
   "source": [
    "import pandas as pd\n",
    "import matplotlib.pyplot as plt\n",
    "\n",
    "joint_22 = pd.read_csv('data/example_joint_events.csv', header=None)\n",
    "\n",
    "total_count = len(joint_22)\n",
    "p_entangled_22 = len(joint_22[joint_22[1] == 1.0]) / total_count\n",
    "p_separable_22 = len(joint_22[joint_22[1] == 0.0]) / total_count\n",
    "entangled, separable = joint_22[joint_22[1] == 1.0], joint_22[joint_22[1] == 0.0]\n",
    "entangled_weights = [p_entangled_22 / len(entangled)] * len(entangled)\n",
    "separable_weights = [p_separable_22 / len(separable)] * len(separable)\n",
    "\n",
    "fig, ax = plt.subplots()\n",
    "entangled[0].hist(bins=100, alpha=0.5, label=r'$e = entangled$', ax=ax,weights=entangled_weights)\n",
    "separable[0].hist(bins=100, alpha=0.5, label=r'$e = separable$', ax=ax,weights=separable_weights)\n",
    "\n",
    "plt.xlabel(r'$w$', fontsize=14)\n",
    "plt.ylabel(r'$p_{\\mathcal{WE}}(w,e)$', fontsize=14)\n",
    "plt.legend(fontsize=14, loc='upper right')\n",
    "\n",
    "# Set the figure and axis backgrounds to transparent\n",
    "fig.set_facecolor('none')\n",
    "ax.set_facecolor('none')\n",
    "ax.grid(False)\n",
    "ax.set_xlim(-0.1, 0.73)\n",
    "ax.tick_params(axis='both', which='major', labelsize=14)\n",
    "\n",
    "plt.savefig('figures/example_joint_distribution.png', transparent=True)\n"
   ]
  },
  {
   "cell_type": "markdown",
   "metadata": {},
   "source": [
    "# Entropy of the entanglement random variables"
   ]
  },
  {
   "cell_type": "code",
   "execution_count": null,
   "metadata": {},
   "outputs": [],
   "source": [
    "import math\n",
    "\n",
    "entanglement_22 = pd.read_csv('data/entanglement_events_2_2.csv')\n",
    "entanglement_23 = pd.read_csv('data/entanglement_events_3_2.csv')\n",
    "\n",
    "p_entangled_22 = entanglement_22.mean()\n",
    "p_entangled_23 = entanglement_23.mean()\n",
    "\n",
    "h_e_22 = -(math.log2(p_entangled_22) * p_entangled_22 + math.log2(1 - p_entangled_22) * (1 - p_entangled_22)).item()\n",
    "h_e_32 = -(math.log2(p_entangled_23) * p_entangled_23 + math.log2(1 - p_entangled_23) * (1 - p_entangled_23)).item()\n",
    "\n",
    "print(f\"H(E) for 2x2: {h_e_22:.3f} bits\\nH(E) for 3x2: {h_e_32:.3f} bits\")"
   ]
  },
  {
   "cell_type": "markdown",
   "metadata": {},
   "source": [
    "# Plotting $I_{\\mathcal{WE}(\\mathcal{W},\\mathcal{E})}$ and $I_{\\mathcal{SE}(\\mathcal{S},\\mathcal{E})}$ normalized by $H(\\mathcal{E})$:\n",
    "## (FIG. 2) Qubit-Qubit Case"
   ]
  },
  {
   "cell_type": "code",
   "execution_count": null,
   "metadata": {},
   "outputs": [],
   "source": [
    "import pandas as pd\n",
    "import matplotlib.pyplot as plt\n",
    "\n",
    "hist22_witness_fine = pd.read_csv('data/histograms_2_2_random_witness_from_family_1th_momentum_fine_grained.csv') / h_e_22\n",
    "hist22_witness_coarse = pd.read_csv('data/histograms_2_2_random_witness_from_family_1th_momentum_coarse_grained.csv') / h_e_22\n",
    "\n",
    "hist22_partial_transp_fine = pd.read_csv('data/histograms_2_2_random_witness_from_partial_transpose_1th_momentum_fine_grained.csv') / h_e_22\n",
    "hist22_partial_transp_coarse = pd.read_csv('data/histograms_2_2_random_witness_from_partial_transpose_1th_momentum_coarse_grained.csv') / h_e_22\n",
    "\n",
    "hist22_functional_fine = pd.read_csv('data/histograms_2_2_random_functional_1th_momentum_fine_grained.csv') / h_e_22\n",
    "hist22_functional_coarse = pd.read_csv('data/histograms_2_2_random_functional_1th_momentum_coarse_grained.csv') / h_e_22\n",
    "\n",
    "fig, ax = plt.subplots(3, 1, figsize=(10, 10), sharex=True, sharey=True)\n",
    "\n",
    "hist22_witness_fine.hist(bins=100, alpha=0.5, label=r'$I_\\mathcal{WE}(\\mathcal{W}:\\mathcal{E})/H(\\mathcal{E})$', ax=ax[0], density=True)\n",
    "hist22_witness_coarse.hist(bins=100, alpha=0.5, label=r'$I_\\mathcal{WE}(\\mathcal{S}:\\mathcal{E})/H(\\mathcal{E})$', ax=ax[0], density=True)\n",
    "\n",
    "hist22_partial_transp_fine.hist(bins=100, alpha=0.5, label=r'$I_\\mathcal{WE}(\\mathcal{W}:\\mathcal{E})/H(\\mathcal{E})$', ax=ax[1], density=True)\n",
    "hist22_partial_transp_coarse.hist(bins=100, alpha=0.5, label=r'$I_\\mathcal{SE}(\\mathcal{S}:\\mathcal{E})/H(\\mathcal{E})$', ax=ax[1], density=True)\n",
    "\n",
    "hist22_functional_fine.hist(bins=100, alpha=0.5, label=r'$I_\\mathcal{WE}(\\mathcal{W}:\\mathcal{E})/H(\\mathcal{E})$', ax=ax[2], density=True)\n",
    "hist22_functional_coarse.hist(bins=100, alpha=0.5, label=r'$I_\\mathcal{SE}(\\mathcal{S}:\\mathcal{E})/H(\\mathcal{E})$', ax=ax[2], density=True)\n",
    "\n",
    "# Set y-axis to logarithmic scale\n",
    "ax[0].set_title('a) 2x2, Optimal Witnesses', fontsize=18)\n",
    "ax[1].set_title('b) 2x2, Partial Transpose Witnesses', fontsize=18)\n",
    "ax[2].set_title('c) 2x2, Random Observable', fontsize=18)\n",
    "\n",
    "for axis in ax:\n",
    "    axis.set_yscale('log')\n",
    "    axis.grid(False)\n",
    "    axis.set_xlim([-0.001, 0.03])\n",
    "    axis.set_ylim([0.0, 27000])\n",
    "    axis.legend(loc='upper right', fontsize=14, ncol=2)\n",
    "    axis.tick_params(axis='both', which='major', labelsize=16)\n",
    "\n",
    "fig.text(0.5, 0.04, 'Mutual Information / Entropy Upper Bound', ha='center', fontsize=16)\n",
    "fig.text(0.04, 0.5, 'Probability Density (Log Scale)', va='center', rotation='vertical', fontsize=16)\n",
    "\n",
    "plt.subplots_adjust(hspace=0.5)\n",
    "plt.savefig('figures/2x2_histograms.png', dpi=300, bbox_inches='tight')\n",
    "plt.show()"
   ]
  },
  {
   "cell_type": "markdown",
   "metadata": {},
   "source": [
    "## (FIG. 3) Qubit-Qutrit Case"
   ]
  },
  {
   "cell_type": "code",
   "execution_count": null,
   "metadata": {},
   "outputs": [],
   "source": [
    "import pandas as pd\n",
    "import matplotlib.pyplot as plt\n",
    "\n",
    "hist23_partial_transp_fine = pd.read_csv('data/histograms_3_2_random_witness_from_partial_transpose_1th_momentum_fine_grained.csv') / h_e_32\n",
    "hist23_partial_transp_coarse = pd.read_csv('data/histograms_3_2_random_witness_from_partial_transpose_1th_momentum_coarse_grained.csv') / h_e_32\n",
    "\n",
    "hist23_functional_fine = pd.read_csv('data/histograms_3_2_random_functional_1th_momentum_fine_grained.csv') / h_e_32\n",
    "hist23_functional_coarse = pd.read_csv('data/histograms_3_2_random_functional_1th_momentum_coarse_grained.csv') / h_e_32\n",
    "\n",
    "fig, ax = plt.subplots(2, 1, figsize=(10, 7), sharex=True, sharey=True)\n",
    "\n",
    "hist23_partial_transp_fine.hist(bins=100, alpha=0.5, label=r'$I_\\mathcal{WE}(\\mathcal{W}:\\mathcal{E})/H(\\mathcal{E})$', ax=ax[0], density=True)\n",
    "hist23_partial_transp_coarse.hist(bins=100, alpha=0.5, label=r'$I_\\mathcal{SE}(\\mathcal{S}:\\mathcal{E})/H(\\mathcal{E})$', ax=ax[0], density=True)\n",
    "\n",
    "hist23_functional_fine.hist(bins=100, alpha=0.5, label=r'$I_\\mathcal{WE}(\\mathcal{W}:\\mathcal{E})/H(\\mathcal{E})$', ax=ax[1], density=True)\n",
    "hist23_functional_coarse.hist(bins=100, alpha=0.5, label=r'$I_\\mathcal{SE}(\\mathcal{S}:\\mathcal{E})/H(\\mathcal{E})$', ax=ax[1], density=True)\n",
    "\n",
    "# Set y-axis to logarithmic scale\n",
    "ax[0].set_title('b) 2x3, Partial Transpose Witnesses', fontsize=18)\n",
    "ax[1].set_title('c) 2x3, Random Observable', fontsize=18)\n",
    "\n",
    "for axis in ax:\n",
    "    axis.set_yscale('log')\n",
    "    axis.grid(False)\n",
    "    axis.set_xlim([-0.001, 0.03])\n",
    "    axis.set_ylim([0.0, 27000])\n",
    "    axis.legend(loc='upper right', fontsize=14, ncol=2)\n",
    "    axis.tick_params(axis='both', which='major', labelsize=16)\n",
    "\n",
    "fig.text(0.5, 0.04, 'Mutual Information / Entropy Upper Bound', ha='center', fontsize=16)\n",
    "fig.text(0.04, 0.5, 'Probability Density (Log Scale)', va='center', rotation='vertical', fontsize=16)\n",
    "\n",
    "plt.subplots_adjust(hspace=0.5)\n",
    "plt.savefig('figures/2x3_histograms.png', dpi=300, bbox_inches='tight')\n",
    "plt.show()"
   ]
  },
  {
   "cell_type": "markdown",
   "metadata": {},
   "source": [
    "# Mutual Information Statistics\n",
    "## (Table 1)"
   ]
  },
  {
   "cell_type": "code",
   "execution_count": null,
   "metadata": {},
   "outputs": [],
   "source": [
    "hist22_witness_fine = pd.read_csv('data/histograms_2_2_random_witness_from_family_1th_momentum_fine_grained.csv') / h_e_22\n",
    "hist22_witness_coarse = pd.read_csv('data/histograms_2_2_random_witness_from_family_1th_momentum_coarse_grained.csv') / h_e_22\n",
    "\n",
    "hist22_partial_transp_fine = pd.read_csv('data/histograms_2_2_random_witness_from_partial_transpose_1th_momentum_fine_grained.csv') / h_e_22\n",
    "hist22_partial_transp_coarse = pd.read_csv('data/histograms_2_2_random_witness_from_partial_transpose_1th_momentum_coarse_grained.csv') / h_e_22\n",
    "\n",
    "hist22_functional_fine = pd.read_csv('data/histograms_2_2_random_functional_1th_momentum_fine_grained.csv') / h_e_22\n",
    "hist22_functional_coarse = pd.read_csv('data/histograms_2_2_random_functional_1th_momentum_coarse_grained.csv') / h_e_22\n",
    "\n",
    "hist23_partial_transp_fine.hist(bins=100, alpha=0.5, label=r'$I_\\mathcal{WE}(\\mathcal{W}:\\mathcal{E})/H(\\mathcal{E})$', ax=ax[0], density=True)\n",
    "hist23_partial_transp_coarse.hist(bins=100, alpha=0.5, label=r'$I_\\mathcal{SE}(\\mathcal{S}:\\mathcal{E})/H(\\mathcal{E})$', ax=ax[0], density=True)\n",
    "\n",
    "hist23_functional_fine.hist(bins=100, alpha=0.5, label=r'$I_\\mathcal{WE}(\\mathcal{W}:\\mathcal{E})/H(\\mathcal{E})$', ax=ax[1], density=True)\n",
    "hist23_functional_coarse.hist(bins=100, alpha=0.5, label=r'$I_\\mathcal{SE}(\\mathcal{S}:\\mathcal{E})/H(\\mathcal{E})$', ax=ax[1], density=True)\n",
    "\n",
    "hist22_witness_fine.mean().item()\n",
    "print(f\"\"\"\n",
    "2x2:\n",
    "    I_WE:\n",
    "        Optimal Witness: Mean: {hist22_witness_fine.mean().item()}, Std: {hist22_witness_fine.std().item()}\n",
    "        Partial Transposition Witnesses: Mean: {hist22_partial_transp_fine.mean().item()}, Std: {hist22_partial_transp_fine.std().item()}\n",
    "        Random Functionals: Mean: {hist22_functional_fine.mean().item()}, Std: {hist22_functional_fine.std().item()}\n",
    "    I_SE:\n",
    "        Optimal Witness: Mean: {hist22_witness_coarse.mean().item()}, Std: {hist22_witness_coarse.std().item()}\n",
    "        Partial Transposition Witnesses: Mean: {hist22_partial_transp_coarse.mean().item()}, Std: {hist22_partial_transp_coarse.std().item()}\n",
    "        Random Functionals: Mean: {hist22_functional_coarse.mean().item()}, Std: {hist22_functional_coarse.std().item()}\n",
    "3x2:\n",
    "    I_WE:\n",
    "        Partial Transposition Witnesses: Mean: {hist23_partial_transp_fine.mean().item()}, Std: {hist23_partial_transp_fine.std().item()}\n",
    "        Random Functionals: Mean: {hist23_functional_fine.mean().item()}, Std: {hist23_functional_fine.std().item()}\n",
    "    I_SE:\n",
    "        Partial Transposition Witnesses: Mean: {hist23_partial_transp_coarse.mean().item()}, Std: {hist23_partial_transp_coarse.std().item()}\n",
    "        Random Functionals: Mean: {hist23_functional_coarse.mean().item()}, Std: {hist23_functional_coarse.std().item()}\n",
    "\"\"\")"
   ]
  }
 ],
 "metadata": {
  "kernelspec": {
   "display_name": "base",
   "language": "python",
   "name": "python3"
  },
  "language_info": {
   "codemirror_mode": {
    "name": "ipython",
    "version": 3
   },
   "file_extension": ".py",
   "mimetype": "text/x-python",
   "name": "python",
   "nbconvert_exporter": "python",
   "pygments_lexer": "ipython3",
   "version": "3.9.13"
  },
  "orig_nbformat": 4
 },
 "nbformat": 4,
 "nbformat_minor": 2
}
